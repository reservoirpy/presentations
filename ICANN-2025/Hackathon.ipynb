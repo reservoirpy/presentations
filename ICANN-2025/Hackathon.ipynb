{
 "cells": [
  {
   "cell_type": "markdown",
   "id": "c1a7d3e3",
   "metadata": {},
   "source": [
    "# ICANN 2025 Hackathon"
   ]
  }
 ],
 "metadata": {
  "language_info": {
   "name": "python"
  }
 },
 "nbformat": 4,
 "nbformat_minor": 5
}
